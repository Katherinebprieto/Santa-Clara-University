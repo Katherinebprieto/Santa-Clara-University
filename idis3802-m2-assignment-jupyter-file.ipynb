{
 "cells": [
  {
   "cell_type": "markdown",
   "metadata": {},
   "source": [
    "# Assignment 2: Basics of Python"
   ]
  },
  {
   "cell_type": "markdown",
   "metadata": {},
   "source": [
    "## Question 1: Basic Python"
   ]
  },
  {
   "cell_type": "markdown",
   "metadata": {},
   "source": [
    "The number of birds banded at a series of sampling sites has been counted by your field crew and entered into the following list. The first item in each sublist is an alphanumeric code for the site and the second value is the number of birds banded. Answer the following questions by printing them to the screen."
   ]
  },
  {
   "cell_type": "code",
   "execution_count": 30,
   "metadata": {},
   "outputs": [],
   "source": [
    "data = [['A1', 28], ['A2', 32], ['A3', 1], ['A4', 0],\n",
    "        ['A5', 10], ['A6', 22], ['A7', 30], ['A8', 19],\n",
    "\t\t['B1', 145], ['B2', 27], ['B3', 36], ['B4', 25],\n",
    "\t\t['B5', 9], ['B6', 38], ['B7', 21], ['B8', 12],\n",
    "\t\t['C1', 122], ['C2', 87], ['C3', 36], ['C4', 3],\n",
    "\t\t['D1', 0], ['D2', 5], ['D3', 55], ['D4', 62],\n",
    "\t\t['D5', 98], ['D6', 32]]"
   ]
  },
  {
   "cell_type": "markdown",
   "metadata": {},
   "source": [
    "- How many sites are there?\n",
    "- How many birds were counted at the 7th site?\n",
    "- How many birds were counted at the last site?\n",
    "- What is the total number of birds counted across all sites?\n",
    "- What is the average number of birds seen on a site?\n",
    "- What is the total number of birds counted on sites with codes beginning with C? (don’t just identify this sites by eye, in the real world there could be hundreds or thousands of sites)"
   ]
  },
  {
   "cell_type": "code",
   "execution_count": 24,
   "metadata": {},
   "outputs": [
    {
     "name": "stdout",
     "output_type": "stream",
     "text": [
      "There are 26 sites in our data.\n"
     ]
    }
   ],
   "source": [
    "# Question 1. How many sites are there? \n",
    "print(f\"There are {len(data)} sites in our data.\")"
   ]
  },
  {
   "cell_type": "code",
   "execution_count": 25,
   "metadata": {},
   "outputs": [
    {
     "name": "stdout",
     "output_type": "stream",
     "text": [
      "There are 30 birds at the 7th site.\n"
     ]
    }
   ],
   "source": [
    "# Question 2. How many birds were counted at the 7th site?\n",
    "print(f\"There are {data[6][1]} birds at the 7th site.\")"
   ]
  },
  {
   "cell_type": "code",
   "execution_count": 26,
   "metadata": {},
   "outputs": [
    {
     "name": "stdout",
     "output_type": "stream",
     "text": [
      "At the last site, there were 32 birds.\n"
     ]
    }
   ],
   "source": [
    "# Question 3. How many birds were counted at the last site? \n",
    "print(f\"At the last site, there were {data[-1][1]} birds.\")"
   ]
  },
  {
   "cell_type": "code",
   "execution_count": 27,
   "metadata": {},
   "outputs": [
    {
     "name": "stdout",
     "output_type": "stream",
     "text": [
      "955\n"
     ]
    }
   ],
   "source": [
    "# Question 4. What is the total number of birds counted across all sites? \n",
    "total_bird_count = 0\n",
    "for i in data: \n",
    "    total_bird_count = i[1] + total_bird_count\n",
    "print(total_bird_count)\n",
    "\n",
    "# Alternative \n",
    "\n",
    "# total_birds = 0\n",
    "# for i in data:\n",
    "#     total_birds += i[1]\n",
    "# print(total_birds)\n"
   ]
  },
  {
   "cell_type": "code",
   "execution_count": 28,
   "metadata": {},
   "outputs": [
    {
     "name": "stdout",
     "output_type": "stream",
     "text": [
      "36.73076923076923\n"
     ]
    }
   ],
   "source": [
    "# Question 5. What is the average number of birds seen on a site?\n",
    "def average_num_birds(total_bird_count):\n",
    "    return total_bird_count / len(data)\n",
    "print(average_num_birds(total_bird_count))"
   ]
  },
  {
   "cell_type": "code",
   "execution_count": 29,
   "metadata": {},
   "outputs": [
    {
     "name": "stdout",
     "output_type": "stream",
     "text": [
      "248\n"
     ]
    }
   ],
   "source": [
    "# Question 6. What is the total number of birds counted on sites withcodes beginning with C?\n",
    "birds_with_c = 0\n",
    "for i in data:\n",
    "    if i[0][0].startswith(\"C\"):\n",
    "        birds_with_c += i[1]\n",
    "print(birds_with_c)"
   ]
  },
  {
   "cell_type": "markdown",
   "metadata": {},
   "source": [
    "## Question 2 (optional): Sentiment Analysis"
   ]
  },
  {
   "cell_type": "markdown",
   "metadata": {},
   "source": [
    "This question is optional. First, follow the instructions in the file “Twitter HW Setup.pptx” to collect a good sample of tweets about a trending topic (Suggestion: at least 500 tweets).\n",
    "\n",
    "For each word, assign a value of +1 for positive sentiment, a value -1 for negative sentiment, or a value of 0 for neutral sentiment. \n",
    "\n",
    "Do you think that the general sentiment is negative or positive? Weakly or strongly? It is up to you to decide how to measure the sentiment; make sure to briefly explain it in your submission though.\n",
    "\n",
    "For your convenience, “positive.txt” and “negative.txt” are provided. But you can easily find more complete list of “positive” words and a list of “negative” words online. A sample tweets file “shutdown.txt” is also provided.\n",
    "\n",
    "Technical note: here is the python code to read the whole text file, by looping through the lines of the file \n",
    "\n",
    "`f = open(\"demofile.txt\", \"r\")\n",
    "for x in f:\n",
    "    print(x)`\n",
    "\n"
   ]
  },
  {
   "cell_type": "code",
   "execution_count": null,
   "metadata": {},
   "outputs": [],
   "source": []
  }
 ],
 "metadata": {
  "kernelspec": {
   "display_name": "Python 3",
   "language": "python",
   "name": "python3"
  },
  "language_info": {
   "codemirror_mode": {
    "name": "ipython",
    "version": 3
   },
   "file_extension": ".py",
   "mimetype": "text/x-python",
   "name": "python",
   "nbconvert_exporter": "python",
   "pygments_lexer": "ipython3",
   "version": "3.7.4"
  }
 },
 "nbformat": 4,
 "nbformat_minor": 2
}
